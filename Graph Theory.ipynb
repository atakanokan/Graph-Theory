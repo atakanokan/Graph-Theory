{
 "cells": [
  {
   "cell_type": "code",
   "execution_count": 1,
   "metadata": {
    "collapsed": true
   },
   "outputs": [],
   "source": [
    "import networkx as nx"
   ]
  },
  {
   "cell_type": "markdown",
   "metadata": {},
   "source": [
    "### Graph Creation"
   ]
  },
  {
   "cell_type": "code",
   "execution_count": 2,
   "metadata": {
    "collapsed": true
   },
   "outputs": [],
   "source": [
    "# Creating a Graph \n",
    "G = nx.Graph() # Right now G is empty\n",
    "\n",
    "# Add a node\n",
    "G.add_node(1) \n",
    "G.add_nodes_from([2,3]) # You can also add a list of nodes by passing a list argument\n",
    "\n",
    "# Add edges \n",
    "G.add_edge(1,2)\n",
    "\n",
    "e = (2,3)\n",
    "G.add_edge(*e) # * unpacks the tuple\n",
    "G.add_edges_from([(1,2), (1,3)]) # Just like nodes we can add edges from a list"
   ]
  },
  {
   "cell_type": "code",
   "execution_count": 3,
   "metadata": {},
   "outputs": [
    {
     "data": {
      "text/plain": [
       "<networkx.classes.graph.Graph at 0x150f00b3c8>"
      ]
     },
     "execution_count": 3,
     "metadata": {},
     "output_type": "execute_result"
    }
   ],
   "source": [
    "G"
   ]
  },
  {
   "cell_type": "code",
   "execution_count": 4,
   "metadata": {},
   "outputs": [
    {
     "data": {
      "text/plain": [
       "NodeView((1, 2, 3))"
      ]
     },
     "execution_count": 4,
     "metadata": {},
     "output_type": "execute_result"
    }
   ],
   "source": [
    "G.nodes()"
   ]
  },
  {
   "cell_type": "code",
   "execution_count": 5,
   "metadata": {},
   "outputs": [
    {
     "data": {
      "text/plain": [
       "EdgeView([(1, 2), (1, 3), (2, 3)])"
      ]
     },
     "execution_count": 5,
     "metadata": {},
     "output_type": "execute_result"
    }
   ],
   "source": [
    "G.edges()"
   ]
  },
  {
   "cell_type": "code",
   "execution_count": 6,
   "metadata": {},
   "outputs": [
    {
     "data": {
      "text/plain": [
       "AtlasView({2: {}, 3: {}})"
      ]
     },
     "execution_count": 6,
     "metadata": {},
     "output_type": "execute_result"
    }
   ],
   "source": [
    "G[1] # same as G.adj[1]"
   ]
  },
  {
   "cell_type": "code",
   "execution_count": 7,
   "metadata": {},
   "outputs": [
    {
     "data": {
      "text/plain": [
       "{}"
      ]
     },
     "execution_count": 7,
     "metadata": {},
     "output_type": "execute_result"
    }
   ],
   "source": [
    "G[1][2]"
   ]
  },
  {
   "cell_type": "code",
   "execution_count": 8,
   "metadata": {},
   "outputs": [
    {
     "data": {
      "text/plain": [
       "EdgeDataView([(1, 2), (1, 3), (2, 3)])"
      ]
     },
     "execution_count": 8,
     "metadata": {},
     "output_type": "execute_result"
    }
   ],
   "source": [
    "G.edges([1, 2])"
   ]
  },
  {
   "cell_type": "markdown",
   "metadata": {},
   "source": [
    "### Graph Visualization"
   ]
  },
  {
   "cell_type": "code",
   "execution_count": 9,
   "metadata": {},
   "outputs": [
    {
     "data": {
      "image/png": "[encoded data removed]",
      "text/plain": [
       "<matplotlib.figure.Figure at 0x150fbb8208>"
      ]
     },
     "metadata": {},
     "output_type": "display_data"
    }
   ],
   "source": [
    "%matplotlib inline\n",
    "import matplotlib.pyplot as plt\n",
    "nx.draw(G)"
   ]
  },
  {
   "cell_type": "code",
   "execution_count": 10,
   "metadata": {},
   "outputs": [
    {
     "name": "stdout",
     "output_type": "stream",
     "text": [
      "strict graph {\n",
      "\t1 -- 2;\n",
      "\t2 -- 3;\n",
      "\t3 -- 1;\n",
      "}\n",
      "\n"
     ]
    }
   ],
   "source": [
    "import pygraphviz as pgv\n",
    "d={'1': {'2': None}, '2': {'1': None, '3': None}, '3': {'1': None}}\n",
    "A = pgv.AGraph(data=d)\n",
    "print(A) # This is the 'string' or simple representation of the Graph"
   ]
  },
  {
   "cell_type": "code",
   "execution_count": 11,
   "metadata": {
    "collapsed": true
   },
   "outputs": [],
   "source": [
    "# Let us create another Graph where we can individually control the colour of each node\n",
    "B = pgv.AGraph()\n",
    "\n",
    "# Setting node attributes that are common for all nodes \n",
    "B.node_attr['style']='filled'\n",
    "B.node_attr['shape']='circle'\n",
    "B.node_attr['fixedsize']='true'\n",
    "B.node_attr['fontcolor']='#FFFFFF'\n",
    "\n",
    "# Creating and setting node attributes that vary for each node (using a for loop)\n",
    "for i in range(16):\n",
    "    B.add_edge(0,i)\n",
    "    n=B.get_node(i)\n",
    "    n.attr['fillcolor']=\"#%2x0000\"%(i*16)\n",
    "    n.attr['height']=\"%s\"%(i/16.0+0.5)\n",
    "    n.attr['width']=\"%s\"%(i/16.0+0.5)\n",
    "\n",
    "B.draw('star.png',prog=\"circo\") # This creates a .png file in the local directory. Displayed below."
   ]
  },
  {
   "cell_type": "markdown",
   "metadata": {},
   "source": [
    "![title](star.png)"
   ]
  },
  {
   "cell_type": "markdown",
   "metadata": {},
   "source": [
    "### Dataset Analysis Using Graphs"
   ]
  },
  {
   "cell_type": "code",
   "execution_count": 12,
   "metadata": {
    "collapsed": true
   },
   "outputs": [],
   "source": [
    "import pandas as pd \n",
    "import numpy as np\n",
    "\n",
    "data = pd.read_csv('flights1987.csv')"
   ]
  },
  {
   "cell_type": "code",
   "execution_count": 13,
   "metadata": {},
   "outputs": [
    {
     "data": {
      "text/plain": [
       "(9999, 29)"
      ]
     },
     "execution_count": 13,
     "metadata": {},
     "output_type": "execute_result"
    }
   ],
   "source": [
    "data.shape"
   ]
  },
  {
   "cell_type": "code",
   "execution_count": 14,
   "metadata": {},
   "outputs": [
    {
     "data": {
      "text/plain": [
       "Year                   int64\n",
       "Month                  int64\n",
       "DayofMonth             int64\n",
       "DayOfWeek              int64\n",
       "DepTime              float64\n",
       "CRSDepTime             int64\n",
       "ArrTime              float64\n",
       "CRSArrTime             int64\n",
       "UniqueCarrier         object\n",
       "FlightNum              int64\n",
       "TailNum              float64\n",
       "ActualElapsedTime    float64\n",
       "CRSElapsedTime         int64\n",
       "AirTime              float64\n",
       "ArrDelay             float64\n",
       "DepDelay             float64\n",
       "Origin                object\n",
       "Dest                  object\n",
       "Distance               int64\n",
       "TaxiIn               float64\n",
       "TaxiOut              float64\n",
       "Cancelled              int64\n",
       "CancellationCode     float64\n",
       "Diverted               int64\n",
       "CarrierDelay         float64\n",
       "WeatherDelay         float64\n",
       "NASDelay             float64\n",
       "SecurityDelay        float64\n",
       "LateAircraftDelay    float64\n",
       "dtype: object"
      ]
     },
     "execution_count": 14,
     "metadata": {},
     "output_type": "execute_result"
    }
   ],
   "source": [
    "data.dtypes"
   ]
  },
  {
   "cell_type": "code",
   "execution_count": 15,
   "metadata": {
    "scrolled": true
   },
   "outputs": [
    {
     "data": {
      "text/plain": [
       "0        7:30:00\n",
       "1        7:30:00\n",
       "2        7:30:00\n",
       "3        7:30:00\n",
       "4        7:30:00\n",
       "5        7:30:00\n",
       "6        7:30:00\n",
       "7        7:30:00\n",
       "8        7:30:00\n",
       "9        7:30:00\n",
       "10       7:30:00\n",
       "11       7:25:00\n",
       "12       7:25:00\n",
       "13       7:25:00\n",
       "14       9:15:00\n",
       "15       9:15:00\n",
       "16       9:15:00\n",
       "17       9:15:00\n",
       "18       9:15:00\n",
       "19       9:15:00\n",
       "20       9:15:00\n",
       "21       9:15:00\n",
       "22       9:15:00\n",
       "23       9:15:00\n",
       "24       9:15:00\n",
       "25       9:15:00\n",
       "26       9:15:00\n",
       "27       9:15:00\n",
       "28       9:15:00\n",
       "29       9:15:00\n",
       "          ...   \n",
       "9969    17:10:00\n",
       "9970    17:10:00\n",
       "9971    17:10:00\n",
       "9972    17:10:00\n",
       "9973    17:10:00\n",
       "9974    17:10:00\n",
       "9975    17:10:00\n",
       "9976    17:10:00\n",
       "9977    17:10:00\n",
       "9978    17:10:00\n",
       "9979    17:10:00\n",
       "9980    17:10:00\n",
       "9981    17:10:00\n",
       "9982    17:50:00\n",
       "9983    17:50:00\n",
       "9984    17:50:00\n",
       "9985    16:50:00\n",
       "9986    10:40:00\n",
       "9987    10:40:00\n",
       "9988    10:40:00\n",
       "9989    10:40:00\n",
       "9990    10:40:00\n",
       "9991    10:40:00\n",
       "9992    10:40:00\n",
       "9993    10:40:00\n",
       "9994    10:40:00\n",
       "9995    10:40:00\n",
       "9996    10:40:00\n",
       "9997    10:40:00\n",
       "9998    10:40:00\n",
       "Name: std, Length: 9999, dtype: object"
      ]
     },
     "execution_count": 15,
     "metadata": {},
     "output_type": "execute_result"
    }
   ],
   "source": [
    "# converting sched_dep_time to 'std' - Scheduled time of departure\n",
    "data['std'] = data.CRSDepTime.astype(str).str.replace('(\\d{2}$)', '') \\\n",
    "                + ':' + \\\n",
    "            data.CRSDepTime.astype(str).str.extract('(\\d{2}$)', \n",
    "                                                        expand=False) + \\\n",
    "                ':00'\n",
    "data[\"std\"]"
   ]
  },
  {
   "cell_type": "code",
   "execution_count": 16,
   "metadata": {
    "scrolled": true
   },
   "outputs": [
    {
     "data": {
      "text/plain": [
       "0        8:49:00\n",
       "1        8:49:00\n",
       "2        8:49:00\n",
       "3        8:49:00\n",
       "4        8:49:00\n",
       "5        8:49:00\n",
       "6        8:49:00\n",
       "7        8:49:00\n",
       "8        8:49:00\n",
       "9        8:49:00\n",
       "10       8:49:00\n",
       "11       8:55:00\n",
       "12       8:55:00\n",
       "13       8:55:00\n",
       "14      10:01:00\n",
       "15      10:01:00\n",
       "16      10:01:00\n",
       "17      10:01:00\n",
       "18      10:01:00\n",
       "19      10:01:00\n",
       "20      10:01:00\n",
       "21      10:01:00\n",
       "22      10:01:00\n",
       "23      10:01:00\n",
       "24      10:01:00\n",
       "25      10:01:00\n",
       "26      10:01:00\n",
       "27      10:01:00\n",
       "28      10:01:00\n",
       "29      10:01:00\n",
       "          ...   \n",
       "9969    18:00:00\n",
       "9970    18:00:00\n",
       "9971    18:00:00\n",
       "9972    18:00:00\n",
       "9973    18:00:00\n",
       "9974    18:00:00\n",
       "9975    18:00:00\n",
       "9976    18:00:00\n",
       "9977    18:00:00\n",
       "9978    18:00:00\n",
       "9979    18:00:00\n",
       "9980    18:00:00\n",
       "9981    18:00:00\n",
       "9982    18:49:00\n",
       "9983    18:49:00\n",
       "9984    18:49:00\n",
       "9985    17:52:00\n",
       "9986    11:55:00\n",
       "9987    11:55:00\n",
       "9988    11:55:00\n",
       "9989    11:55:00\n",
       "9990    11:55:00\n",
       "9991    11:55:00\n",
       "9992    11:55:00\n",
       "9993    11:55:00\n",
       "9994    11:55:00\n",
       "9995    11:55:00\n",
       "9996    11:55:00\n",
       "9997    11:55:00\n",
       "9998    11:55:00\n",
       "Name: sta, Length: 9999, dtype: object"
      ]
     },
     "execution_count": 16,
     "metadata": {},
     "output_type": "execute_result"
    }
   ],
   "source": [
    "# converting sched_arr_time to 'sta' - Scheduled time of arrival\n",
    "data['sta'] = data.CRSArrTime.astype(str).str.replace('(\\d{2}$)', '') \\\n",
    "                + ':' \\\n",
    "                + data.CRSArrTime.astype(str).str.extract('(\\d{2}$)', \n",
    "                                                              expand=False) \\\n",
    "                + ':00'\n",
    "data['sta']"
   ]
  },
  {
   "cell_type": "code",
   "execution_count": 17,
   "metadata": {
    "scrolled": true
   },
   "outputs": [
    {
     "data": {
      "text/plain": [
       "0        7:41:00\n",
       "1        7:29:00\n",
       "2        7:41:00\n",
       "3        7:29:00\n",
       "4        7:49:00\n",
       "5        7:28:00\n",
       "6        7:28:00\n",
       "7        7:31:00\n",
       "8        7:44:00\n",
       "9        7:29:00\n",
       "10       7:35:00\n",
       "11       7:41:00\n",
       "12       7:42:00\n",
       "13       7:26:00\n",
       "14       9:36:00\n",
       "15       9:18:00\n",
       "16       9:28:00\n",
       "17       9:14:00\n",
       "18      10:42:00\n",
       "19       9:34:00\n",
       "20       9:46:00\n",
       "21       9:32:00\n",
       "22       9:47:00\n",
       "23       9:15:00\n",
       "24       9:16:00\n",
       "25       9:44:00\n",
       "26       9:41:00\n",
       "27       9:30:00\n",
       "28       9:20:00\n",
       "29      10:09:00\n",
       "          ...   \n",
       "9969    17:15:00\n",
       "9970    17:30:00\n",
       "9971    17:09:00\n",
       "9972    17:26:00\n",
       "9973    17:11:00\n",
       "9974    17:12:00\n",
       "9975    17:21:00\n",
       "9976    18:19:00\n",
       "9977    17:09:00\n",
       "9978    17:13:00\n",
       "9979    17:10:00\n",
       "9980    17:51:00\n",
       "9981    17:15:00\n",
       "9982    17:51:00\n",
       "9983    17:49:00\n",
       "9984    17:56:00\n",
       "9985    17:32:00\n",
       "9986    10:39:00\n",
       "9987    10:40:00\n",
       "9988    10:39:00\n",
       "9989    10:56:00\n",
       "9990    10:42:00\n",
       "9991    10:39:00\n",
       "9992    10:41:00\n",
       "9993    10:52:00\n",
       "9994    10:40:00\n",
       "9995    10:54:00\n",
       "9996    10:56:00\n",
       "9997    10:57:00\n",
       "9998    10:41:00\n",
       "Name: atd, Length: 9999, dtype: object"
      ]
     },
     "execution_count": 17,
     "metadata": {},
     "output_type": "execute_result"
    }
   ],
   "source": [
    "# converting dep_time to 'atd' - Actual time of departure\n",
    "data['atd'] = data.DepTime.fillna(0).astype(np.int64).astype(str).str.replace('(\\d{2}$)', '') \\\n",
    "                + ':' \\\n",
    "                + data.DepTime.fillna(0).astype(np.int64).astype(str).str.extract('(\\d{2}$)', expand=False) \\\n",
    "                + ':00'\n",
    "data['atd']"
   ]
  },
  {
   "cell_type": "code",
   "execution_count": 18,
   "metadata": {
    "scrolled": true
   },
   "outputs": [
    {
     "data": {
      "text/plain": [
       "0        9:12:00\n",
       "1        9:03:00\n",
       "2        9:18:00\n",
       "3        8:47:00\n",
       "4        9:22:00\n",
       "5        8:48:00\n",
       "6        8:52:00\n",
       "7        9:02:00\n",
       "8        9:08:00\n",
       "9        8:51:00\n",
       "10       9:04:00\n",
       "11       9:19:00\n",
       "12       9:06:00\n",
       "13       8:48:00\n",
       "14      10:35:00\n",
       "15      10:17:00\n",
       "16      10:37:00\n",
       "17      10:03:00\n",
       "18      11:29:00\n",
       "19      10:24:00\n",
       "20      10:37:00\n",
       "21      10:33:00\n",
       "22      10:36:00\n",
       "23      10:22:00\n",
       "24      10:06:00\n",
       "25      10:27:00\n",
       "26      10:36:00\n",
       "27      10:29:00\n",
       "28      10:23:00\n",
       "29      11:04:00\n",
       "          ...   \n",
       "9969    18:19:00\n",
       "9970    18:30:00\n",
       "9971    18:02:00\n",
       "9972    18:19:00\n",
       "9973    18:10:00\n",
       "9974    18:12:00\n",
       "9975    18:26:00\n",
       "9976    19:24:00\n",
       "9977    18:08:00\n",
       "9978    18:11:00\n",
       "9979    18:04:00\n",
       "9980    18:56:00\n",
       "9981    18:11:00\n",
       "9982    18:53:00\n",
       "9983    18:52:00\n",
       "9984    18:55:00\n",
       "9985    18:38:00\n",
       "9986    12:02:00\n",
       "9987    11:56:00\n",
       "9988    11:50:00\n",
       "9989    12:17:00\n",
       "9990    11:55:00\n",
       "9991    11:53:00\n",
       "9992    11:55:00\n",
       "9993    12:11:00\n",
       "9994    11:55:00\n",
       "9995    12:09:00\n",
       "9996    12:17:00\n",
       "9997    12:18:00\n",
       "9998    11:57:00\n",
       "Name: ata, Length: 9999, dtype: object"
      ]
     },
     "execution_count": 18,
     "metadata": {},
     "output_type": "execute_result"
    }
   ],
   "source": [
    "# converting arr_time to 'ata' - Actual time of arrival\n",
    "data['ata'] = data.ArrTime.fillna(0).astype(np.int64).astype(str).str.replace('(\\d{2}$)', '') \\\n",
    "                + ':' \\\n",
    "                + data.ArrTime.fillna(0).astype(np.int64).astype(str).str.extract('(\\d{2}$)', expand=False) \\\n",
    "                + ':00'\n",
    "data['ata']"
   ]
  },
  {
   "cell_type": "code",
   "execution_count": 19,
   "metadata": {
    "collapsed": true
   },
   "outputs": [],
   "source": [
    "data=data.rename(columns = {'Year':'year',\n",
    "                        \"Month\":\"month\",\n",
    "                        \"DayofMonth\": \"day\"})"
   ]
  },
  {
   "cell_type": "code",
   "execution_count": 20,
   "metadata": {
    "scrolled": true
   },
   "outputs": [
    {
     "data": {
      "text/html": [
       "<div>\n",
       "<style>\n",
       "    .dataframe thead tr:only-child th {\n",
       "        text-align: right;\n",
       "    }\n",
       "\n",
       "    .dataframe thead th {\n",
       "        text-align: left;\n",
       "    }\n",
       "\n",
       "    .dataframe tbody tr th {\n",
       "        vertical-align: top;\n",
       "    }\n",
       "</style>\n",
       "<table border=\"1\" class=\"dataframe\">\n",
       "  <thead>\n",
       "    <tr style=\"text-align: right;\">\n",
       "      <th></th>\n",
       "      <th>year</th>\n",
       "      <th>month</th>\n",
       "      <th>day</th>\n",
       "    </tr>\n",
       "  </thead>\n",
       "  <tbody>\n",
       "    <tr>\n",
       "      <th>0</th>\n",
       "      <td>1987</td>\n",
       "      <td>10</td>\n",
       "      <td>14</td>\n",
       "    </tr>\n",
       "    <tr>\n",
       "      <th>1</th>\n",
       "      <td>1987</td>\n",
       "      <td>10</td>\n",
       "      <td>15</td>\n",
       "    </tr>\n",
       "    <tr>\n",
       "      <th>2</th>\n",
       "      <td>1987</td>\n",
       "      <td>10</td>\n",
       "      <td>17</td>\n",
       "    </tr>\n",
       "    <tr>\n",
       "      <th>3</th>\n",
       "      <td>1987</td>\n",
       "      <td>10</td>\n",
       "      <td>18</td>\n",
       "    </tr>\n",
       "    <tr>\n",
       "      <th>4</th>\n",
       "      <td>1987</td>\n",
       "      <td>10</td>\n",
       "      <td>19</td>\n",
       "    </tr>\n",
       "    <tr>\n",
       "      <th>5</th>\n",
       "      <td>1987</td>\n",
       "      <td>10</td>\n",
       "      <td>21</td>\n",
       "    </tr>\n",
       "    <tr>\n",
       "      <th>6</th>\n",
       "      <td>1987</td>\n",
       "      <td>10</td>\n",
       "      <td>22</td>\n",
       "    </tr>\n",
       "    <tr>\n",
       "      <th>7</th>\n",
       "      <td>1987</td>\n",
       "      <td>10</td>\n",
       "      <td>23</td>\n",
       "    </tr>\n",
       "    <tr>\n",
       "      <th>8</th>\n",
       "      <td>1987</td>\n",
       "      <td>10</td>\n",
       "      <td>24</td>\n",
       "    </tr>\n",
       "    <tr>\n",
       "      <th>9</th>\n",
       "      <td>1987</td>\n",
       "      <td>10</td>\n",
       "      <td>25</td>\n",
       "    </tr>\n",
       "    <tr>\n",
       "      <th>10</th>\n",
       "      <td>1987</td>\n",
       "      <td>10</td>\n",
       "      <td>26</td>\n",
       "    </tr>\n",
       "    <tr>\n",
       "      <th>11</th>\n",
       "      <td>1987</td>\n",
       "      <td>10</td>\n",
       "      <td>28</td>\n",
       "    </tr>\n",
       "    <tr>\n",
       "      <th>12</th>\n",
       "      <td>1987</td>\n",
       "      <td>10</td>\n",
       "      <td>29</td>\n",
       "    </tr>\n",
       "    <tr>\n",
       "      <th>13</th>\n",
       "      <td>1987</td>\n",
       "      <td>10</td>\n",
       "      <td>31</td>\n",
       "    </tr>\n",
       "    <tr>\n",
       "      <th>14</th>\n",
       "      <td>1987</td>\n",
       "      <td>10</td>\n",
       "      <td>1</td>\n",
       "    </tr>\n",
       "    <tr>\n",
       "      <th>15</th>\n",
       "      <td>1987</td>\n",
       "      <td>10</td>\n",
       "      <td>2</td>\n",
       "    </tr>\n",
       "    <tr>\n",
       "      <th>16</th>\n",
       "      <td>1987</td>\n",
       "      <td>10</td>\n",
       "      <td>3</td>\n",
       "    </tr>\n",
       "    <tr>\n",
       "      <th>17</th>\n",
       "      <td>1987</td>\n",
       "      <td>10</td>\n",
       "      <td>4</td>\n",
       "    </tr>\n",
       "    <tr>\n",
       "      <th>18</th>\n",
       "      <td>1987</td>\n",
       "      <td>10</td>\n",
       "      <td>5</td>\n",
       "    </tr>\n",
       "    <tr>\n",
       "      <th>19</th>\n",
       "      <td>1987</td>\n",
       "      <td>10</td>\n",
       "      <td>6</td>\n",
       "    </tr>\n",
       "    <tr>\n",
       "      <th>20</th>\n",
       "      <td>1987</td>\n",
       "      <td>10</td>\n",
       "      <td>7</td>\n",
       "    </tr>\n",
       "    <tr>\n",
       "      <th>21</th>\n",
       "      <td>1987</td>\n",
       "      <td>10</td>\n",
       "      <td>8</td>\n",
       "    </tr>\n",
       "    <tr>\n",
       "      <th>22</th>\n",
       "      <td>1987</td>\n",
       "      <td>10</td>\n",
       "      <td>9</td>\n",
       "    </tr>\n",
       "    <tr>\n",
       "      <th>23</th>\n",
       "      <td>1987</td>\n",
       "      <td>10</td>\n",
       "      <td>10</td>\n",
       "    </tr>\n",
       "    <tr>\n",
       "      <th>24</th>\n",
       "      <td>1987</td>\n",
       "      <td>10</td>\n",
       "      <td>11</td>\n",
       "    </tr>\n",
       "    <tr>\n",
       "      <th>25</th>\n",
       "      <td>1987</td>\n",
       "      <td>10</td>\n",
       "      <td>12</td>\n",
       "    </tr>\n",
       "    <tr>\n",
       "      <th>26</th>\n",
       "      <td>1987</td>\n",
       "      <td>10</td>\n",
       "      <td>13</td>\n",
       "    </tr>\n",
       "    <tr>\n",
       "      <th>27</th>\n",
       "      <td>1987</td>\n",
       "      <td>10</td>\n",
       "      <td>14</td>\n",
       "    </tr>\n",
       "    <tr>\n",
       "      <th>28</th>\n",
       "      <td>1987</td>\n",
       "      <td>10</td>\n",
       "      <td>15</td>\n",
       "    </tr>\n",
       "    <tr>\n",
       "      <th>29</th>\n",
       "      <td>1987</td>\n",
       "      <td>10</td>\n",
       "      <td>17</td>\n",
       "    </tr>\n",
       "    <tr>\n",
       "      <th>...</th>\n",
       "      <td>...</td>\n",
       "      <td>...</td>\n",
       "      <td>...</td>\n",
       "    </tr>\n",
       "    <tr>\n",
       "      <th>9969</th>\n",
       "      <td>1987</td>\n",
       "      <td>10</td>\n",
       "      <td>8</td>\n",
       "    </tr>\n",
       "    <tr>\n",
       "      <th>9970</th>\n",
       "      <td>1987</td>\n",
       "      <td>10</td>\n",
       "      <td>9</td>\n",
       "    </tr>\n",
       "    <tr>\n",
       "      <th>9971</th>\n",
       "      <td>1987</td>\n",
       "      <td>10</td>\n",
       "      <td>11</td>\n",
       "    </tr>\n",
       "    <tr>\n",
       "      <th>9972</th>\n",
       "      <td>1987</td>\n",
       "      <td>10</td>\n",
       "      <td>12</td>\n",
       "    </tr>\n",
       "    <tr>\n",
       "      <th>9973</th>\n",
       "      <td>1987</td>\n",
       "      <td>10</td>\n",
       "      <td>13</td>\n",
       "    </tr>\n",
       "    <tr>\n",
       "      <th>9974</th>\n",
       "      <td>1987</td>\n",
       "      <td>10</td>\n",
       "      <td>14</td>\n",
       "    </tr>\n",
       "    <tr>\n",
       "      <th>9975</th>\n",
       "      <td>1987</td>\n",
       "      <td>10</td>\n",
       "      <td>15</td>\n",
       "    </tr>\n",
       "    <tr>\n",
       "      <th>9976</th>\n",
       "      <td>1987</td>\n",
       "      <td>10</td>\n",
       "      <td>16</td>\n",
       "    </tr>\n",
       "    <tr>\n",
       "      <th>9977</th>\n",
       "      <td>1987</td>\n",
       "      <td>10</td>\n",
       "      <td>18</td>\n",
       "    </tr>\n",
       "    <tr>\n",
       "      <th>9978</th>\n",
       "      <td>1987</td>\n",
       "      <td>10</td>\n",
       "      <td>19</td>\n",
       "    </tr>\n",
       "    <tr>\n",
       "      <th>9979</th>\n",
       "      <td>1987</td>\n",
       "      <td>10</td>\n",
       "      <td>21</td>\n",
       "    </tr>\n",
       "    <tr>\n",
       "      <th>9980</th>\n",
       "      <td>1987</td>\n",
       "      <td>10</td>\n",
       "      <td>23</td>\n",
       "    </tr>\n",
       "    <tr>\n",
       "      <th>9981</th>\n",
       "      <td>1987</td>\n",
       "      <td>10</td>\n",
       "      <td>26</td>\n",
       "    </tr>\n",
       "    <tr>\n",
       "      <th>9982</th>\n",
       "      <td>1987</td>\n",
       "      <td>10</td>\n",
       "      <td>3</td>\n",
       "    </tr>\n",
       "    <tr>\n",
       "      <th>9983</th>\n",
       "      <td>1987</td>\n",
       "      <td>10</td>\n",
       "      <td>17</td>\n",
       "    </tr>\n",
       "    <tr>\n",
       "      <th>9984</th>\n",
       "      <td>1987</td>\n",
       "      <td>10</td>\n",
       "      <td>24</td>\n",
       "    </tr>\n",
       "    <tr>\n",
       "      <th>9985</th>\n",
       "      <td>1987</td>\n",
       "      <td>10</td>\n",
       "      <td>31</td>\n",
       "    </tr>\n",
       "    <tr>\n",
       "      <th>9986</th>\n",
       "      <td>1987</td>\n",
       "      <td>10</td>\n",
       "      <td>1</td>\n",
       "    </tr>\n",
       "    <tr>\n",
       "      <th>9987</th>\n",
       "      <td>1987</td>\n",
       "      <td>10</td>\n",
       "      <td>2</td>\n",
       "    </tr>\n",
       "    <tr>\n",
       "      <th>9988</th>\n",
       "      <td>1987</td>\n",
       "      <td>10</td>\n",
       "      <td>4</td>\n",
       "    </tr>\n",
       "    <tr>\n",
       "      <th>9989</th>\n",
       "      <td>1987</td>\n",
       "      <td>10</td>\n",
       "      <td>5</td>\n",
       "    </tr>\n",
       "    <tr>\n",
       "      <th>9990</th>\n",
       "      <td>1987</td>\n",
       "      <td>10</td>\n",
       "      <td>6</td>\n",
       "    </tr>\n",
       "    <tr>\n",
       "      <th>9991</th>\n",
       "      <td>1987</td>\n",
       "      <td>10</td>\n",
       "      <td>7</td>\n",
       "    </tr>\n",
       "    <tr>\n",
       "      <th>9992</th>\n",
       "      <td>1987</td>\n",
       "      <td>10</td>\n",
       "      <td>8</td>\n",
       "    </tr>\n",
       "    <tr>\n",
       "      <th>9993</th>\n",
       "      <td>1987</td>\n",
       "      <td>10</td>\n",
       "      <td>9</td>\n",
       "    </tr>\n",
       "    <tr>\n",
       "      <th>9994</th>\n",
       "      <td>1987</td>\n",
       "      <td>10</td>\n",
       "      <td>11</td>\n",
       "    </tr>\n",
       "    <tr>\n",
       "      <th>9995</th>\n",
       "      <td>1987</td>\n",
       "      <td>10</td>\n",
       "      <td>12</td>\n",
       "    </tr>\n",
       "    <tr>\n",
       "      <th>9996</th>\n",
       "      <td>1987</td>\n",
       "      <td>10</td>\n",
       "      <td>13</td>\n",
       "    </tr>\n",
       "    <tr>\n",
       "      <th>9997</th>\n",
       "      <td>1987</td>\n",
       "      <td>10</td>\n",
       "      <td>14</td>\n",
       "    </tr>\n",
       "    <tr>\n",
       "      <th>9998</th>\n",
       "      <td>1987</td>\n",
       "      <td>10</td>\n",
       "      <td>15</td>\n",
       "    </tr>\n",
       "  </tbody>\n",
       "</table>\n",
       "<p>9999 rows × 3 columns</p>\n",
       "</div>"
      ],
      "text/plain": [
       "      year  month  day\n",
       "0     1987     10   14\n",
       "1     1987     10   15\n",
       "2     1987     10   17\n",
       "3     1987     10   18\n",
       "4     1987     10   19\n",
       "5     1987     10   21\n",
       "6     1987     10   22\n",
       "7     1987     10   23\n",
       "8     1987     10   24\n",
       "9     1987     10   25\n",
       "10    1987     10   26\n",
       "11    1987     10   28\n",
       "12    1987     10   29\n",
       "13    1987     10   31\n",
       "14    1987     10    1\n",
       "15    1987     10    2\n",
       "16    1987     10    3\n",
       "17    1987     10    4\n",
       "18    1987     10    5\n",
       "19    1987     10    6\n",
       "20    1987     10    7\n",
       "21    1987     10    8\n",
       "22    1987     10    9\n",
       "23    1987     10   10\n",
       "24    1987     10   11\n",
       "25    1987     10   12\n",
       "26    1987     10   13\n",
       "27    1987     10   14\n",
       "28    1987     10   15\n",
       "29    1987     10   17\n",
       "...    ...    ...  ...\n",
       "9969  1987     10    8\n",
       "9970  1987     10    9\n",
       "9971  1987     10   11\n",
       "9972  1987     10   12\n",
       "9973  1987     10   13\n",
       "9974  1987     10   14\n",
       "9975  1987     10   15\n",
       "9976  1987     10   16\n",
       "9977  1987     10   18\n",
       "9978  1987     10   19\n",
       "9979  1987     10   21\n",
       "9980  1987     10   23\n",
       "9981  1987     10   26\n",
       "9982  1987     10    3\n",
       "9983  1987     10   17\n",
       "9984  1987     10   24\n",
       "9985  1987     10   31\n",
       "9986  1987     10    1\n",
       "9987  1987     10    2\n",
       "9988  1987     10    4\n",
       "9989  1987     10    5\n",
       "9990  1987     10    6\n",
       "9991  1987     10    7\n",
       "9992  1987     10    8\n",
       "9993  1987     10    9\n",
       "9994  1987     10   11\n",
       "9995  1987     10   12\n",
       "9996  1987     10   13\n",
       "9997  1987     10   14\n",
       "9998  1987     10   15\n",
       "\n",
       "[9999 rows x 3 columns]"
      ]
     },
     "execution_count": 20,
     "metadata": {},
     "output_type": "execute_result"
    }
   ],
   "source": [
    "data[['year', 'month', 'day']]"
   ]
  },
  {
   "cell_type": "code",
   "execution_count": 21,
   "metadata": {
    "collapsed": true
   },
   "outputs": [],
   "source": [
    "data['date'] = pd.to_datetime(data[['year', 'month', 'day']])"
   ]
  },
  {
   "cell_type": "code",
   "execution_count": 22,
   "metadata": {
    "collapsed": true
   },
   "outputs": [],
   "source": [
    "data = data.drop(['year', 'month', 'day'] ,axis=1)"
   ]
  },
  {
   "cell_type": "code",
   "execution_count": 24,
   "metadata": {},
   "outputs": [],
   "source": [
    "import networkx as nx\n",
    "FG = nx.from_pandas_edgelist(data, \n",
    "                             source='Origin', \n",
    "                             target='Dest', \n",
    "                             edge_attr=True,)"
   ]
  },
  {
   "cell_type": "code",
   "execution_count": 25,
   "metadata": {},
   "outputs": [
    {
     "data": {
      "text/plain": [
       "EdgeView([('SAN', 'SFO'), ('SAN', 'OAK'), ('SAN', 'LAS'), ('SAN', 'LAX'), ('SAN', 'SMF'), ('SAN', 'SJC'), ('SFO', 'RNO'), ('SFO', 'LAX'), ('SFO', 'PDX'), ('SFO', 'OAK'), ('SFO', 'BUR'), ('SFO', 'GEG'), ('SFO', 'SCK'), ('SFO', 'MFR'), ('SFO', 'PHX'), ('SFO', 'EUG'), ('SFO', 'SEA'), ('SFO', 'RDM'), ('SFO', 'LGB'), ('SFO', 'ONT'), ('SFO', 'LAS'), ('SFO', 'SNA'), ('SFO', 'PSC'), ('SFO', 'MRY'), ('RNO', 'LAX'), ('RNO', 'SEA'), ('RNO', 'BUR'), ('RNO', 'PDX'), ('BUR', 'OAK'), ('BUR', 'SJC'), ('BUR', 'LAS'), ('BUR', 'SMF'), ('OAK', 'SNA'), ('OAK', 'LAX'), ('OAK', 'SJC'), ('LAX', 'PHX'), ('LAX', 'SMF'), ('LAX', 'SJC'), ('LAX', 'ABQ'), ('LAX', 'LAS'), ('LAX', 'SCK'), ('LAX', 'MRY'), ('LAX', 'TUS'), ('LAX', 'FAT'), ('LAX', 'CCR'), ('LAX', 'SEA'), ('PDX', 'SMF'), ('SJC', 'SNA'), ('LAS', 'SNA'), ('SNA', 'SMF'), ('MFR', 'RDM'), ('SEA', 'BLI'), ('PSC', 'YKM')])"
      ]
     },
     "execution_count": 25,
     "metadata": {},
     "output_type": "execute_result"
    }
   ],
   "source": [
    "FG.edges()"
   ]
  },
  {
   "cell_type": "code",
   "execution_count": 26,
   "metadata": {},
   "outputs": [
    {
     "data": {
      "image/png": "[encoded data removed]",
      "text/plain": [
       "<matplotlib.figure.Figure at 0x151a7b0a20>"
      ]
     },
     "metadata": {},
     "output_type": "display_data"
    }
   ],
   "source": [
    "nx.draw_networkx(FG, with_labels=True) # Quick view of the Graph. As expected we see 3 very busy airports"
   ]
  },
  {
   "cell_type": "code",
   "execution_count": 27,
   "metadata": {},
   "outputs": [
    {
     "data": {
      "text/plain": [
       "0.1402116402116402"
      ]
     },
     "execution_count": 27,
     "metadata": {},
     "output_type": "execute_result"
    }
   ],
   "source": [
    "nx.algorithms.degree_centrality(FG) # Notice the 3 airports from which all of our 100 rows of data originates\n",
    "nx.density(FG) # Average edge density of the Graphs"
   ]
  },
  {
   "cell_type": "code",
   "execution_count": 28,
   "metadata": {},
   "outputs": [
    {
     "data": {
      "text/plain": [
       "2.1481481481481484"
      ]
     },
     "execution_count": 28,
     "metadata": {},
     "output_type": "execute_result"
    }
   ],
   "source": [
    "nx.average_shortest_path_length(FG) # Average shortest path length for ALL paths in the Graph"
   ]
  },
  {
   "cell_type": "code",
   "execution_count": 29,
   "metadata": {},
   "outputs": [
    {
     "data": {
      "text/plain": [
       "{1: 14.2,\n",
       " 2: 13.666666666666666,\n",
       " 3: 9.666666666666666,\n",
       " 4: 10.0,\n",
       " 5: 8.44,\n",
       " 6: 8.666666666666666,\n",
       " 15: 4.333333333333333,\n",
       " 19: 3.736842105263158}"
      ]
     },
     "execution_count": 29,
     "metadata": {},
     "output_type": "execute_result"
    }
   ],
   "source": [
    "nx.average_degree_connectivity(FG) # For a node of degree k - What is the average of its neighbours' degree?"
   ]
  },
  {
   "cell_type": "code",
   "execution_count": null,
   "metadata": {
    "collapsed": true
   },
   "outputs": [],
   "source": []
  }
 ],
 "metadata": {
  "kernelspec": {
   "display_name": "Python 3",
   "language": "python",
   "name": "python3"
  },
  "language_info": {
   "codemirror_mode": {
    "name": "ipython",
    "version": 3
   },
   "file_extension": ".py",
   "mimetype": "text/x-python",
   "name": "python",
   "nbconvert_exporter": "python",
   "pygments_lexer": "ipython3",
   "version": "3.6.1"
  }
 },
 "nbformat": 4,
 "nbformat_minor": 2
}
